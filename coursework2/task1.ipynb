{
 "cells": [
  {
   "cell_type": "code",
   "execution_count": 1,
   "metadata": {},
   "outputs": [],
   "source": [
    "import numpy as np\n",
    "import itertools\n",
    "\n",
    "import torch\n",
    "import torch.nn as nn\n",
    "\n",
    "from michael.psotorch import PSO\n",
    "from michael.preprocess import load_tensors, phi\n",
    "from michael.models import SpiralClassifier"
   ]
  },
  {
   "cell_type": "code",
   "execution_count": 2,
   "metadata": {
    "pycharm": {
     "name": "#%%\n"
    }
   },
   "outputs": [],
   "source": [
    "if torch.cuda.is_available():\n",
    "  dev = \"cuda:0\"\n",
    "else:\n",
    "  dev = \"cpu\"\n",
    "\n",
    "device = torch.device(dev)\n",
    "\n",
    "np.random.seed(12345)\n",
    "\n",
    "def run_training_cycle(x_train, y_train, num_epochs, inertia, a1, a2, population_size):\n",
    "\n",
    "    model = SpiralClassifier().to(device)\n",
    "    loss = nn.BCELoss().to(device)\n",
    "\n",
    "    optimizer = PSO(x_train, y_train, model=model, loss=loss, dim=56, inertia=inertia, a1=a1, a2=a2, population_size=population_size, search_range=1)\n",
    "\n",
    "    for i in range(num_epochs):\n",
    "\n",
    "        y_train_preds = model(x_train)\n",
    "        fitness = loss(y_train_preds, y_train)\n",
    "\n",
    "        class_classified = (y_train_preds>0.5).float()\n",
    "        accuracy = sum(y_train[i] == class_classified[i] for i in range(len(class_classified)))/y_train_preds.shape[0]\n",
    "\n",
    "        print(f\"Epoch {i}: Fitness = {fitness}; Acc = {accuracy}\")\n",
    "\n",
    "        optimizer.step()\n",
    "\n",
    "    return fitness, y_train_preds"
   ]
  },
  {
   "cell_type": "code",
   "execution_count": 3,
   "metadata": {
    "pycharm": {
     "name": "#%%\n"
    }
   },
   "outputs": [],
   "source": [
    "x_train, y_train, x_test, y_test = load_tensors('data/two_spirals.dat', device, phi=phi, cuda_device=device, validation_split=0.5)"
   ]
  },
  {
   "cell_type": "code",
   "execution_count": 4,
   "outputs": [],
   "source": [
    "# num_epochs = 50\n",
    "#\n",
    "# inertia_range = np.arange(0.2, 1.6, 0.2)\n",
    "# a1_range = np.arange(0.2, 4.2, 0.2)\n",
    "# a2_range = a1_range[::-1]\n",
    "# a_range = zip(a1_range, a2_range)\n",
    "#\n",
    "# best_fitness, best_model = 10e30, None\n",
    "# for x in itertools.product(inertia_range, a_range):\n",
    "#     new_fitness, _ = run_network(x_train, y_train, x[0], x[1][0], x[1][1], 30)\n",
    "#     print(new_fitness)\n",
    "#     if new_fitness < best_fitness:\n",
    "#         best_fitness = new_fitness\n",
    "#         best_model = x\n",
    "#     # print(f\"Epoch {i}; Fitness={fitness}; Acc={accuracy}\")"
   ],
   "metadata": {
    "collapsed": false,
    "pycharm": {
     "name": "#%%\n"
    }
   }
  },
  {
   "cell_type": "code",
   "execution_count": 13,
   "outputs": [
    {
     "name": "stdout",
     "output_type": "stream",
     "text": [
      "Epoch 0: Fitness = 0.7101864814758301; Acc = tensor([0.5833], device='cuda:0')\n",
      "Epoch 1: Fitness = 0.7101864814758301; Acc = tensor([0.5833], device='cuda:0')\n",
      "Epoch 2: Fitness = 0.7101864814758301; Acc = tensor([0.5833], device='cuda:0')\n",
      "Epoch 3: Fitness = 0.7101864814758301; Acc = tensor([0.5833], device='cuda:0')\n",
      "Epoch 4: Fitness = 0.7101864814758301; Acc = tensor([0.5833], device='cuda:0')\n",
      "Epoch 5: Fitness = 0.7101864814758301; Acc = tensor([0.5833], device='cuda:0')\n",
      "Epoch 6: Fitness = 0.7101864814758301; Acc = tensor([0.5833], device='cuda:0')\n",
      "Epoch 7: Fitness = 0.7101864814758301; Acc = tensor([0.5833], device='cuda:0')\n",
      "Epoch 8: Fitness = 0.7101864814758301; Acc = tensor([0.5833], device='cuda:0')\n",
      "Epoch 9: Fitness = 0.7101864814758301; Acc = tensor([0.5833], device='cuda:0')\n",
      "Epoch 10: Fitness = 0.7101864814758301; Acc = tensor([0.5833], device='cuda:0')\n",
      "Epoch 11: Fitness = 0.7101864814758301; Acc = tensor([0.5833], device='cuda:0')\n",
      "Epoch 12: Fitness = 0.7101864814758301; Acc = tensor([0.5833], device='cuda:0')\n",
      "Epoch 13: Fitness = 0.7101864814758301; Acc = tensor([0.5833], device='cuda:0')\n",
      "Epoch 14: Fitness = 0.7101864814758301; Acc = tensor([0.5833], device='cuda:0')\n",
      "Epoch 15: Fitness = 0.7101864814758301; Acc = tensor([0.5833], device='cuda:0')\n",
      "Epoch 16: Fitness = 0.7101864814758301; Acc = tensor([0.5833], device='cuda:0')\n",
      "Epoch 17: Fitness = 0.7101864814758301; Acc = tensor([0.5833], device='cuda:0')\n",
      "Epoch 18: Fitness = 0.7101864814758301; Acc = tensor([0.5833], device='cuda:0')\n",
      "Epoch 19: Fitness = 0.7101864814758301; Acc = tensor([0.5833], device='cuda:0')\n",
      "Epoch 20: Fitness = 0.7101864814758301; Acc = tensor([0.5833], device='cuda:0')\n",
      "Epoch 21: Fitness = 0.7101864814758301; Acc = tensor([0.5833], device='cuda:0')\n",
      "Epoch 22: Fitness = 0.7101864814758301; Acc = tensor([0.5833], device='cuda:0')\n",
      "Epoch 23: Fitness = 0.7101864814758301; Acc = tensor([0.5833], device='cuda:0')\n",
      "Epoch 24: Fitness = 0.7101864814758301; Acc = tensor([0.5833], device='cuda:0')\n",
      "Epoch 25: Fitness = 0.7101864814758301; Acc = tensor([0.5833], device='cuda:0')\n",
      "Epoch 26: Fitness = 0.7101864814758301; Acc = tensor([0.5833], device='cuda:0')\n",
      "Epoch 27: Fitness = 0.7101864814758301; Acc = tensor([0.5833], device='cuda:0')\n",
      "Epoch 28: Fitness = 0.7101864814758301; Acc = tensor([0.5833], device='cuda:0')\n",
      "Epoch 29: Fitness = 0.7101864814758301; Acc = tensor([0.5833], device='cuda:0')\n",
      "Epoch 30: Fitness = 0.7101864814758301; Acc = tensor([0.5833], device='cuda:0')\n",
      "Epoch 31: Fitness = 0.7101864814758301; Acc = tensor([0.5833], device='cuda:0')\n",
      "Epoch 32: Fitness = 0.7101864814758301; Acc = tensor([0.5833], device='cuda:0')\n",
      "Epoch 33: Fitness = 0.7101864814758301; Acc = tensor([0.5833], device='cuda:0')\n",
      "Epoch 34: Fitness = 0.7101864814758301; Acc = tensor([0.5833], device='cuda:0')\n",
      "Epoch 35: Fitness = 0.7101864814758301; Acc = tensor([0.5833], device='cuda:0')\n",
      "Epoch 36: Fitness = 0.7101864814758301; Acc = tensor([0.5833], device='cuda:0')\n",
      "Epoch 37: Fitness = 0.7101864814758301; Acc = tensor([0.5833], device='cuda:0')\n",
      "Epoch 38: Fitness = 0.7101864814758301; Acc = tensor([0.5833], device='cuda:0')\n",
      "Epoch 39: Fitness = 0.7101864814758301; Acc = tensor([0.5833], device='cuda:0')\n",
      "Epoch 40: Fitness = 0.7101864814758301; Acc = tensor([0.5833], device='cuda:0')\n",
      "Epoch 41: Fitness = 0.7101864814758301; Acc = tensor([0.5833], device='cuda:0')\n",
      "Epoch 42: Fitness = 0.7101864814758301; Acc = tensor([0.5833], device='cuda:0')\n",
      "Epoch 43: Fitness = 0.7101864814758301; Acc = tensor([0.5833], device='cuda:0')\n",
      "Epoch 44: Fitness = 0.7101864814758301; Acc = tensor([0.5833], device='cuda:0')\n",
      "Epoch 45: Fitness = 0.7101864814758301; Acc = tensor([0.5833], device='cuda:0')\n",
      "Epoch 46: Fitness = 0.7101864814758301; Acc = tensor([0.5833], device='cuda:0')\n",
      "Epoch 47: Fitness = 0.7101864814758301; Acc = tensor([0.5833], device='cuda:0')\n",
      "Epoch 48: Fitness = 0.7101864814758301; Acc = tensor([0.5833], device='cuda:0')\n",
      "Epoch 49: Fitness = 0.7101864814758301; Acc = tensor([0.5833], device='cuda:0')\n",
      "Epoch 50: Fitness = 0.7101864814758301; Acc = tensor([0.5833], device='cuda:0')\n",
      "Epoch 51: Fitness = 0.7101864814758301; Acc = tensor([0.5833], device='cuda:0')\n",
      "Epoch 52: Fitness = 0.7101864814758301; Acc = tensor([0.5833], device='cuda:0')\n",
      "Epoch 53: Fitness = 0.7101864814758301; Acc = tensor([0.5833], device='cuda:0')\n",
      "Epoch 54: Fitness = 0.7101864814758301; Acc = tensor([0.5833], device='cuda:0')\n",
      "Epoch 55: Fitness = 0.7101864814758301; Acc = tensor([0.5833], device='cuda:0')\n",
      "Epoch 56: Fitness = 0.7101864814758301; Acc = tensor([0.5833], device='cuda:0')\n",
      "Epoch 57: Fitness = 0.7101864814758301; Acc = tensor([0.5833], device='cuda:0')\n",
      "Epoch 58: Fitness = 0.7101864814758301; Acc = tensor([0.5833], device='cuda:0')\n",
      "Epoch 59: Fitness = 0.7101864814758301; Acc = tensor([0.5833], device='cuda:0')\n",
      "Epoch 60: Fitness = 0.7101864814758301; Acc = tensor([0.5833], device='cuda:0')\n",
      "Epoch 61: Fitness = 0.7101864814758301; Acc = tensor([0.5833], device='cuda:0')\n",
      "Epoch 62: Fitness = 0.7101864814758301; Acc = tensor([0.5833], device='cuda:0')\n",
      "Epoch 63: Fitness = 0.7101864814758301; Acc = tensor([0.5833], device='cuda:0')\n",
      "Epoch 64: Fitness = 0.7101864814758301; Acc = tensor([0.5833], device='cuda:0')\n",
      "Epoch 65: Fitness = 0.7101864814758301; Acc = tensor([0.5833], device='cuda:0')\n",
      "Epoch 66: Fitness = 0.7101864814758301; Acc = tensor([0.5833], device='cuda:0')\n",
      "Epoch 67: Fitness = 0.7101864814758301; Acc = tensor([0.5833], device='cuda:0')\n",
      "Epoch 68: Fitness = 0.7101864814758301; Acc = tensor([0.5833], device='cuda:0')\n",
      "Epoch 69: Fitness = 0.7101864814758301; Acc = tensor([0.5833], device='cuda:0')\n",
      "Epoch 70: Fitness = 0.7101864814758301; Acc = tensor([0.5833], device='cuda:0')\n",
      "Epoch 71: Fitness = 0.7101864814758301; Acc = tensor([0.5833], device='cuda:0')\n",
      "Epoch 72: Fitness = 0.7101864814758301; Acc = tensor([0.5833], device='cuda:0')\n",
      "Epoch 73: Fitness = 0.7101864814758301; Acc = tensor([0.5833], device='cuda:0')\n",
      "Epoch 74: Fitness = 0.7101864814758301; Acc = tensor([0.5833], device='cuda:0')\n",
      "Epoch 75: Fitness = 0.7101864814758301; Acc = tensor([0.5833], device='cuda:0')\n",
      "Epoch 76: Fitness = 0.7101864814758301; Acc = tensor([0.5833], device='cuda:0')\n",
      "Epoch 77: Fitness = 0.7101864814758301; Acc = tensor([0.5833], device='cuda:0')\n",
      "Epoch 78: Fitness = 0.7101864814758301; Acc = tensor([0.5833], device='cuda:0')\n",
      "Epoch 79: Fitness = 0.7101864814758301; Acc = tensor([0.5833], device='cuda:0')\n",
      "Epoch 80: Fitness = 0.7101864814758301; Acc = tensor([0.5833], device='cuda:0')\n",
      "Epoch 81: Fitness = 0.7101864814758301; Acc = tensor([0.5833], device='cuda:0')\n",
      "Epoch 82: Fitness = 0.7101864814758301; Acc = tensor([0.5833], device='cuda:0')\n",
      "Epoch 83: Fitness = 0.7101864814758301; Acc = tensor([0.5833], device='cuda:0')\n",
      "Epoch 84: Fitness = 0.7101864814758301; Acc = tensor([0.5833], device='cuda:0')\n",
      "Epoch 85: Fitness = 0.7101864814758301; Acc = tensor([0.5833], device='cuda:0')\n",
      "Epoch 86: Fitness = 0.7101864814758301; Acc = tensor([0.5833], device='cuda:0')\n",
      "Epoch 87: Fitness = 0.7101864814758301; Acc = tensor([0.5833], device='cuda:0')\n",
      "Epoch 88: Fitness = 0.7101864814758301; Acc = tensor([0.5833], device='cuda:0')\n",
      "Epoch 89: Fitness = 0.7101864814758301; Acc = tensor([0.5833], device='cuda:0')\n",
      "Epoch 90: Fitness = 0.7101864814758301; Acc = tensor([0.5833], device='cuda:0')\n",
      "Epoch 91: Fitness = 0.7101864814758301; Acc = tensor([0.5833], device='cuda:0')\n",
      "Epoch 92: Fitness = 0.7101864814758301; Acc = tensor([0.5833], device='cuda:0')\n",
      "Epoch 93: Fitness = 0.7101864814758301; Acc = tensor([0.5833], device='cuda:0')\n",
      "Epoch 94: Fitness = 0.7101864814758301; Acc = tensor([0.5833], device='cuda:0')\n",
      "Epoch 95: Fitness = 0.7101864814758301; Acc = tensor([0.5833], device='cuda:0')\n",
      "Epoch 96: Fitness = 0.7101864814758301; Acc = tensor([0.5833], device='cuda:0')\n",
      "Epoch 97: Fitness = 0.7101864814758301; Acc = tensor([0.5833], device='cuda:0')\n",
      "Epoch 98: Fitness = 0.7101864814758301; Acc = tensor([0.5833], device='cuda:0')\n",
      "Epoch 99: Fitness = 0.7101864814758301; Acc = tensor([0.5833], device='cuda:0')\n"
     ]
    }
   ],
   "source": [
    "fitness, y_train_preds = run_training_cycle(x_test, y_test, num_epochs=100, inertia=0.9, a1=2.9, a2=1.1, population_size=30)\n",
    "    # class_classified = (y_train_preds>0.5).float()\n",
    "    # accuracy = sum(y_train[i] == class_classified[i] for i in range(len(class_classified)))/y_train_preds.shape[0]"
   ],
   "metadata": {
    "collapsed": false,
    "pycharm": {
     "name": "#%%\n"
    }
   }
  },
  {
   "cell_type": "code",
   "execution_count": 6,
   "outputs": [
    {
     "name": "stdout",
     "output_type": "stream",
     "text": [
      "tensor(0.7071, device='cuda:0', grad_fn=<BinaryCrossEntropyBackward>)\n"
     ]
    }
   ],
   "source": [
    "print(fitness)"
   ],
   "metadata": {
    "collapsed": false,
    "pycharm": {
     "name": "#%%\n"
    }
   }
  }
 ],
 "metadata": {
  "kernelspec": {
   "display_name": "natcomp",
   "language": "python",
   "name": "natcomp"
  },
  "language_info": {
   "codemirror_mode": {
    "name": "ipython",
    "version": 3
   },
   "file_extension": ".py",
   "mimetype": "text/x-python",
   "name": "python",
   "nbconvert_exporter": "python",
   "pygments_lexer": "ipython3",
   "version": "3.8.3"
  }
 },
 "nbformat": 4,
 "nbformat_minor": 1
}