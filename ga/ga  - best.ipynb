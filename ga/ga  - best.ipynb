import itertools
import json
import numpy as np
import torch
from progress.bar import Bar
from ga import GA

from preprocess import load_tensors, phi


seed = 12345324
np.random.seed(seed)
torch.random.manual_seed(seed)

### PSO Hyperparameters
pso_epochs = 2000
inertia = 0.1
a1 = 1.1
a2 = 2.9
population_size = 30
search_range = 10

### GA Hyperparameters
max_hidden_units = 10

D_N_range = [3,30]
T_range = 500
p_m_range = 0.05
p_c_range = 0.7


x_train, y_train, x_val, y_val, x_test, y_test = load_tensors('/home/jovyan/NAT/data/two_spirals.dat')


param_combinations = list(itertools.product(D_N_range, T_range, p_m_range, p_c_range))
bar = Bar('Hyperparameter set', max=len(param_combinations))

for params in param_combinations:
    D = params[0][0]
    N = params[0][1]
    T = params[1]
    p_m = params[2]
    p_c = params[3]
    GA_ = GA(x_train=x_train, y_train=y_train,
             x_val=x_val, y_val=y_val,
             D=D, N=N,
             T=T, p_c=p_c, p_m=p_m, seed=seed, max_hidden_units = max_hidden_units,
             inertia=inertia, a1=a1, a2=a2, population_size=population_size,
             search_range=search_range, phi=phi)

    best_network_structure, validation_loss, validation_accuracy = GA_.run(pso_epochs)

    print(f" Validation Loss={validation_loss}")
    if validation_loss < best_validation_loss:
        best_D = D
        best_N = N
        best_T = T
        best_p_m = p_m
        best_p_c = p_c
        best_validation_loss = validation_loss

    bar.next()

with open("data/hyperparamsearch/bestparamsGAfindingoptimalTandD.json", 'w') as fp:
    json.dump({"D": best_D, "N": best_N, "T": best_T, "p_m": best_p_m, "p_c": best_p_c, "validation_loss": best_validation_loss}, fp)
