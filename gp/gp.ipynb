{
 "cells": [
  {
   "cell_type": "code",
   "execution_count": null,
   "metadata": {},
   "outputs": [],
   "source": [
    "import itertools\n",
    "import json\n",
    "import numpy as np\n",
    "import torch\n",
    "\n",
    "from gp import GP\n",
    "from preprocess import load_tensors, phi\n",
    "\n",
    "\n",
    "seed = 12345324\n",
    "np.random.seed(seed)\n",
    "torch.random.manual_seed(seed)\n",
    "\n",
    "data_directory = '/home/jovyan/NAT/data/two_spirals.dat'\n",
    "\n",
    "### PSO Hyperparameters\n",
    "pso_epochs = 1000\n",
    "inertia = 0.1\n",
    "a1 = 1.1\n",
    "a2 = 2.9\n",
    "population_size = 30\n",
    "search_range = 10\n",
    "\n",
    "### GA Hyperparameters\n",
    "max_hidden_units = 10\n",
    "D = 8\n",
    "N = 4\n",
    "T = 500\n",
    "p_m = 0.05\n",
    "p_c = 0.7\n",
    "\n",
    "x_train, y_train, x_val, y_val, x_test, y_test = load_tensors(data_directory)\n",
    "\n",
    "GP_ = GP(x_train=x_train, y_train=y_train,\n",
    "         x_val=x_val, y_val=y_val,\n",
    "         D=D, N=N,\n",
    "         T=T, p_c=p_c, p_m=p_m, seed=seed, max_hidden_units = max_hidden_units,\n",
    "         inertia=inertia, a1=a1, a2=a2, population_size=population_size,\n",
    "         search_range=search_range, phi=phi)\n",
    "\n",
    "best_network_structure, validation_loss, validation_accuracy = GP_.run(pso_epochs)\n"
   ]
  }
 ],
 "metadata": {
  "kernelspec": {
   "display_name": "Python 3",
   "language": "python",
   "name": "python3"
  },
  "language_info": {
   "codemirror_mode": {
    "name": "ipython",
    "version": 3
   },
   "file_extension": ".py",
   "mimetype": "text/x-python",
   "name": "python",
   "nbconvert_exporter": "python",
   "pygments_lexer": "ipython3",
   "version": "3.7.6"
  }
 },
 "nbformat": 4,
 "nbformat_minor": 4
}
