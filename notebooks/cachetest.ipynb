{
 "cells": [
  {
   "cell_type": "code",
   "execution_count": 1,
   "metadata": {
    "collapsed": true
   },
   "outputs": [],
   "source": [
    "import numpy as np\n",
    "import torch\n",
    "from torch import nn\n",
    "\n",
    "from psopy.models import BaselineSpiralClassifier\n",
    "from psopy.optimization import PSO\n",
    "from psopy.preprocess import load_tensors, phi\n",
    "\n",
    "from psopy.training import TrainingInstance\n",
    "\n",
    "seed = 12345324\n",
    "np.random.seed(seed)\n",
    "torch.random.manual_seed(seed)\n",
    "\n",
    "epochs = 1000\n",
    "inertia = 0.7\n",
    "a1 = 1.4\n",
    "a2 = 1.8\n",
    "population_size = 30\n",
    "search_range = 1\n",
    "\n",
    "x_train, y_train, x_val, y_val, x_test, y_test = load_tensors('/home/mclancy/Documents/notes/edinburgh/year4/naturalcomputing/coursework/data/two_spirals.dat')"
   ]
  },
  {
   "cell_type": "code",
   "execution_count": 2,
   "outputs": [
    {
     "name": "stderr",
     "output_type": "stream",
     "text": [
      "/home/mclancy/.local/share/pyenv/versions/natcomp/lib/python3.8/site-packages/pandas/core/generic.py:2434: PerformanceWarning: \n",
      "your performance may suffer as PyTables will pickle object types that it cannot\n",
      "map directly to c-types [inferred_type->mixed,key->block0_values] [items->Int64Index([  0,   1,   2,   3,   4,   5,   6,   7,   8,   9,\n",
      "            ...\n",
      "            990, 991, 992, 993, 994, 995, 996, 997, 998, 999],\n",
      "           dtype='int64', length=1000)]\n",
      "\n",
      "  pytables.to_hdf(\n"
     ]
    },
    {
     "name": "stdout",
     "output_type": "stream",
     "text": [
      "Loaded from disk.\n"
     ]
    }
   ],
   "source": [
    "a = TrainingInstance(x_train=phi(x_train), y_train=y_train, x_val=phi(x_val), y_val=y_val, network_layers=[6,8,1], inertia=inertia, a1=a1, a2=a2, population_size=population_size, search_space=search_range, seed=seed, epochs=epochs)\n",
    "b = TrainingInstance(x_train=phi(x_train), y_train=y_train, x_val=phi(x_val), y_val=y_val, network_layers=[6,8,1], inertia=inertia, a1=a1, a2=a2, population_size=population_size, search_space=search_range, seed=seed, epochs=epochs)"
   ],
   "metadata": {
    "collapsed": false,
    "pycharm": {
     "name": "#%%\n"
    }
   }
  },
  {
   "cell_type": "code",
   "execution_count": 3,
   "outputs": [
    {
     "data": {
      "text/plain": "                                                              999\ntrain fitness   tensor(0.3380, grad_fn=<BinaryCrossEntropyWith...\n      accuracy                                   [tensor(0.8473)]\nval   fitness   tensor(0.6787, grad_fn=<BinaryCrossEntropyWith...\n      accuracy                                   [tensor(0.7000)]",
      "text/html": "<div>\n<style scoped>\n    .dataframe tbody tr th:only-of-type {\n        vertical-align: middle;\n    }\n\n    .dataframe tbody tr th {\n        vertical-align: top;\n    }\n\n    .dataframe thead th {\n        text-align: right;\n    }\n</style>\n<table border=\"1\" class=\"dataframe\">\n  <thead>\n    <tr style=\"text-align: right;\">\n      <th></th>\n      <th></th>\n      <th>999</th>\n    </tr>\n  </thead>\n  <tbody>\n    <tr>\n      <th rowspan=\"2\" valign=\"top\">train</th>\n      <th>fitness</th>\n      <td>tensor(0.3380, grad_fn=&lt;BinaryCrossEntropyWith...</td>\n    </tr>\n    <tr>\n      <th>accuracy</th>\n      <td>[tensor(0.8473)]</td>\n    </tr>\n    <tr>\n      <th rowspan=\"2\" valign=\"top\">val</th>\n      <th>fitness</th>\n      <td>tensor(0.6787, grad_fn=&lt;BinaryCrossEntropyWith...</td>\n    </tr>\n    <tr>\n      <th>accuracy</th>\n      <td>[tensor(0.7000)]</td>\n    </tr>\n  </tbody>\n</table>\n</div>"
     },
     "execution_count": 3,
     "metadata": {},
     "output_type": "execute_result"
    }
   ],
   "source": [
    "a.get_current_performances()"
   ],
   "metadata": {
    "collapsed": false,
    "pycharm": {
     "name": "#%%\n"
    }
   }
  }
 ],
 "metadata": {
  "kernelspec": {
   "name": "natcomp",
   "language": "python",
   "display_name": "natcomp"
  },
  "language_info": {
   "codemirror_mode": {
    "name": "ipython",
    "version": 2
   },
   "file_extension": ".py",
   "mimetype": "text/x-python",
   "name": "python",
   "nbconvert_exporter": "python",
   "pygments_lexer": "ipython2",
   "version": "2.7.6"
  }
 },
 "nbformat": 4,
 "nbformat_minor": 0
}