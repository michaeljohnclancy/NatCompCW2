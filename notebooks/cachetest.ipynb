{
 "cells": [
  {
   "cell_type": "code",
   "execution_count": 1,
   "metadata": {},
   "outputs": [],
   "source": [
    "import numpy as np\n",
    "import torch\n",
    "\n",
    "from notebooks.preprocess import load_tensors, phi\n",
    "\n",
    "from notebooks.training import TrainingInstance\n",
    "\n",
    "seed = 12345324\n",
    "np.random.seed(seed)\n",
    "torch.random.manual_seed(seed)\n",
    "\n",
    "epochs = 10\n",
    "inertia = 0.9\n",
    "a1 = 4.0\n",
    "a2 = 0.0\n",
    "population_size = 30\n",
    "search_range = 1000\n",
    "\n",
    "x_train, y_train, x_val, y_val, x_test, y_test = load_tensors('/home/mclancy/Documents/notes/edinburgh/year4/naturalcomputing/coursework/data/two_spirals.dat')"
   ]
  },
  {
   "cell_type": "code",
   "execution_count": 3,
   "metadata": {
    "pycharm": {
     "name": "#%%\n"
    }
   },
   "outputs": [
    {
     "name": "stdout",
     "output_type": "stream",
     "text": [
      "Loaded from disk.\n",
      "Loaded from disk.\n"
     ]
    }
   ],
   "source": [
    "a = TrainingInstance(x_train=phi(x_train), y_train=y_train,\n",
    "                     x_val=phi(x_val), y_val=y_val, network_structure=[6,8,1],\n",
    "                     inertia=inertia, a1=a1, a2=a2, population_size=population_size,\n",
    "                     search_space=search_range, seed=seed, epochs=epochs)\n",
    "b = TrainingInstance(x_train=phi(x_train), y_train=y_train, x_val=phi(x_val), y_val=y_val, network_structure=[6,8,1], inertia=inertia, a1=a1, a2=a2, population_size=population_size, search_space=search_range, seed=seed, epochs=epochs)"
   ]
  },
  {
   "cell_type": "code",
   "execution_count": 4,
   "metadata": {
    "pycharm": {
     "name": "#%%\n"
    }
   },
   "outputs": [
    {
     "data": {
      "text/plain": "                                                   9\ntrain fitness   tensor(259.4675, requires_grad=True)\n      accuracy                      [tensor(0.4351)]\nval   fitness   tensor(287.2564, requires_grad=True)\n      accuracy                      [tensor(0.5000)]",
      "text/html": "<div>\n<style scoped>\n    .dataframe tbody tr th:only-of-type {\n        vertical-align: middle;\n    }\n\n    .dataframe tbody tr th {\n        vertical-align: top;\n    }\n\n    .dataframe thead th {\n        text-align: right;\n    }\n</style>\n<table border=\"1\" class=\"dataframe\">\n  <thead>\n    <tr style=\"text-align: right;\">\n      <th></th>\n      <th></th>\n      <th>9</th>\n    </tr>\n  </thead>\n  <tbody>\n    <tr>\n      <th rowspan=\"2\" valign=\"top\">train</th>\n      <th>fitness</th>\n      <td>tensor(259.4675, requires_grad=True)</td>\n    </tr>\n    <tr>\n      <th>accuracy</th>\n      <td>[tensor(0.4351)]</td>\n    </tr>\n    <tr>\n      <th rowspan=\"2\" valign=\"top\">val</th>\n      <th>fitness</th>\n      <td>tensor(287.2564, requires_grad=True)</td>\n    </tr>\n    <tr>\n      <th>accuracy</th>\n      <td>[tensor(0.5000)]</td>\n    </tr>\n  </tbody>\n</table>\n</div>"
     },
     "execution_count": 4,
     "metadata": {},
     "output_type": "execute_result"
    }
   ],
   "source": [
    "a.get_current_performances()"
   ]
  },
  {
   "cell_type": "code",
   "execution_count": 7,
   "outputs": [],
   "source": [],
   "metadata": {
    "collapsed": false,
    "pycharm": {
     "name": "#%%\n"
    }
   }
  },
  {
   "cell_type": "code",
   "execution_count": null,
   "metadata": {},
   "outputs": [],
   "source": []
  }
 ],
 "metadata": {
  "kernelspec": {
   "display_name": "natcomp",
   "language": "python",
   "name": "natcomp"
  },
  "language_info": {
   "codemirror_mode": {
    "name": "ipython",
    "version": 3
   },
   "file_extension": ".py",
   "mimetype": "text/x-python",
   "name": "python",
   "nbconvert_exporter": "python",
   "pygments_lexer": "ipython3",
   "version": "3.8.3"
  }
 },
 "nbformat": 4,
 "nbformat_minor": 1
}