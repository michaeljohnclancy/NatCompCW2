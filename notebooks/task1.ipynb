{
 "cells": [
  {
   "cell_type": "code",
   "execution_count": 1,
   "metadata": {},
   "outputs": [],
   "source": [
    "import numpy as np\n",
    "\n",
    "import torch\n",
    "import torch.nn as nn\n",
    "\n",
    "from preprocess import load_tensors, phi\n",
    "from models import SpiralClassifier\n",
    "from training import run_training_cycle"
   ]
  },
  {
   "cell_type": "code",
   "execution_count": 2,
   "metadata": {
    "pycharm": {
     "name": "#%%\n"
    }
   },
   "outputs": [],
   "source": [
    "np.random.seed(12345)\n",
    "\n",
    "model = SpiralClassifier()\n",
    "loss = nn.BCEWithLogitsLoss()"
   ]
  },
  {
   "cell_type": "code",
   "execution_count": 3,
   "metadata": {
    "pycharm": {
     "name": "#%%\n"
    }
   },
   "outputs": [
    {
     "name": "stdout",
     "output_type": "stream",
     "text": [
      "17.5 s ± 0 ns per loop (mean ± std. dev. of 1 run, 1 loop each)\n"
     ]
    }
   ],
   "source": [
    "# GPU Time Test\n",
    "dev = \"cuda:0\"\n",
    "x_train, y_train, x_test, y_test = load_tensors('/home/mclancy/Documents/notes/edinburgh/year4/naturalcomputing/coursework/data/two_spirals.dat', phi=phi, device=dev, validation_split=0.5)\n",
    "%timeit -n1 -r1 run_training_cycle(x_train, y_train, model=model, loss=loss, num_epochs=1000, inertia=0.7, a1=1.5, a2=1.8, population_size=30, device = dev)"
   ]
  },
  {
   "cell_type": "code",
   "execution_count": 4,
   "outputs": [
    {
     "name": "stdout",
     "output_type": "stream",
     "text": [
      "9.51 s ± 0 ns per loop (mean ± std. dev. of 1 run, 1 loop each)\n"
     ]
    }
   ],
   "source": [
    "## CPU Time Test\n",
    "x_train, y_train, x_test, y_test = load_tensors('/home/mclancy/Documents/notes/edinburgh/year4/naturalcomputing/coursework/data/two_spirals.dat', phi=phi, validation_split=0.5)\n",
    "%timeit -n1 -r1 run_training_cycle(x_train, y_train, model=model, loss=loss, num_epochs=1000, inertia=0.7, a1=1.5, a2=1.8, population_size=30)"
   ],
   "metadata": {
    "collapsed": false,
    "pycharm": {
     "name": "#%%\n"
    }
   }
  },
  {
   "cell_type": "code",
   "execution_count": 5,
   "outputs": [],
   "source": [
    "# num_epochs = 50\n",
    "#\n",
    "# inertia_range = np.arange(0.2, 1.6, 0.2)\n",
    "# a1_range = np.arange(0.2, 4.2, 0.2)\n",
    "# a2_range = a1_range[::-1]\n",
    "# a_range = zip(a1_range, a2_range)\n",
    "#\n",
    "# best_fitness, best_model = 10e30, None\n",
    "# for x in itertools.product(inertia_range, a_range):\n",
    "#     new_fitness, _ = run_network(x_train, y_train, x[0], x[1][0], x[1][1], 30)\n",
    "#     print(new_fitness)\n",
    "#     if new_fitness < best_fitness:\n",
    "#         best_fitness = new_fitness\n",
    "#         best_model = x\n",
    "#     # print(f\"Epoch {i}; Fitness={fitness}; Acc={accuracy}\")\n"
   ],
   "metadata": {
    "collapsed": false,
    "pycharm": {
     "name": "#%%\n"
    }
   }
  }
 ],
 "metadata": {
  "kernelspec": {
   "display_name": "natcomp",
   "language": "python",
   "name": "natcomp"
  },
  "language_info": {
   "codemirror_mode": {
    "name": "ipython",
    "version": 3
   },
   "file_extension": ".py",
   "mimetype": "text/x-python",
   "name": "python",
   "nbconvert_exporter": "python",
   "pygments_lexer": "ipython3",
   "version": "3.8.3"
  }
 },
 "nbformat": 4,
 "nbformat_minor": 1
}