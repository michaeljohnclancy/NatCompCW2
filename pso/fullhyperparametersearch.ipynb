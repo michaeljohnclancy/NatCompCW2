{
 "cells": [
  {
   "cell_type": "code",
   "execution_count": 9,
   "metadata": {},
   "outputs": [
    {
     "name": "stdout",
     "output_type": "stream",
     "text": [
      "Number of hyperparameter combinations to test: 1845\n",
      "\u001B[?25lHyperparameter setIteration 0, 1845 to go\n",
      "Params: Inertia=0.1; a1=0.0; a2=4.0; search_size=0.1;\n",
      "\u001B[KPSO epoch |######                          | 434/2000^C\n",
      "Traceback (most recent call last):\n",
      "  File \"hyperparametersearch.py\", line 48, in <module>\n",
      "    training_instance = TrainingInstance(\n",
      "  File \"/home/mclancy/Documents/notes/edinburgh/year4/naturalcomputing/coursework/notebooks/training.py\", line 55, in __init__\n",
      "    self._fit()\n",
      "  File \"/home/mclancy/Documents/notes/edinburgh/year4/naturalcomputing/coursework/notebooks/training.py\", line 73, in _fit\n",
      "    self.optimizer.step()\n",
      "  File \"/home/mclancy/Documents/notes/edinburgh/year4/naturalcomputing/coursework/notebooks/optimization.py\", line 54, in step\n",
      "    self.update_model_weights(self.positions[i])\n",
      "  File \"/home/mclancy/Documents/notes/edinburgh/year4/naturalcomputing/coursework/notebooks/optimization.py\", line 82, in update_model_weights\n",
      "    param.copy_(torch.tensor(new_position_layer_1).reshape(param.size()))\n",
      "KeyboardInterrupt\n"
     ]
    }
   ],
   "source": [
    "!python hyperparametersearch.py"
   ]
  },
  {
   "cell_type": "code",
   "execution_count": null,
   "metadata": {},
   "outputs": [],
   "source": []
  }
 ],
 "metadata": {
  "kernelspec": {
   "display_name": "natcomp",
   "language": "python",
   "name": "natcomp"
  },
  "language_info": {
   "codemirror_mode": {
    "name": "ipython",
    "version": 3
   },
   "file_extension": ".py",
   "mimetype": "text/x-python",
   "name": "python",
   "nbconvert_exporter": "python",
   "pygments_lexer": "ipython3",
   "version": "3.8.3"
  }
 },
 "nbformat": 4,
 "nbformat_minor": 1
}